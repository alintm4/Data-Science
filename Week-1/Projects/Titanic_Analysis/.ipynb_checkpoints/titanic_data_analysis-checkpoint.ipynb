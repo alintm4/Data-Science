{
 "cells": [
  {
   "cell_type": "markdown",
   "id": "abac1cf7-154c-4b33-afae-03c01c373501",
   "metadata": {},
   "source": [
    "# Analyzing Survival Rates on basis of gender, class and age."
   ]
  },
  {
   "cell_type": "code",
   "execution_count": 1,
   "id": "77434d8a-ae01-4969-b226-6ef003578482",
   "metadata": {},
   "outputs": [],
   "source": [
    "import numpy as np\n",
    "import pandas as pd\n",
    "import matplotlib.pyplot as plt"
   ]
  },
  {
   "cell_type": "markdown",
   "id": "58b5323b-2493-4287-a360-bf73ab9221ee",
   "metadata": {},
   "source": [
    "## Performing EDA"
   ]
  },
  {
   "cell_type": "code",
   "execution_count": 2,
   "id": "5035cd54-4e17-45a3-b9ca-1288dec164ab",
   "metadata": {},
   "outputs": [
    {
     "name": "stdout",
     "output_type": "stream",
     "text": [
      "   PassengerId  Survived  Pclass  \\\n",
      "0          892         0       3   \n",
      "1          893         1       3   \n",
      "2          894         0       2   \n",
      "3          895         0       3   \n",
      "4          896         1       3   \n",
      "\n",
      "                                           Name     Sex   Age  SibSp  Parch  \\\n",
      "0                              Kelly, Mr. James    male  34.5      0      0   \n",
      "1              Wilkes, Mrs. James (Ellen Needs)  female  47.0      1      0   \n",
      "2                     Myles, Mr. Thomas Francis    male  62.0      0      0   \n",
      "3                              Wirz, Mr. Albert    male  27.0      0      0   \n",
      "4  Hirvonen, Mrs. Alexander (Helga E Lindqvist)  female  22.0      1      1   \n",
      "\n",
      "    Ticket     Fare Cabin Embarked  \n",
      "0   330911   7.8292   NaN        Q  \n",
      "1   363272   7.0000   NaN        S  \n",
      "2   240276   9.6875   NaN        Q  \n",
      "3   315154   8.6625   NaN        S  \n",
      "4  3101298  12.2875   NaN        S  \n"
     ]
    }
   ],
   "source": [
    "df=pd.read_csv(\"tested.csv\")\n",
    "print(df.head())\n"
   ]
  },
  {
   "cell_type": "code",
   "execution_count": 3,
   "id": "b61d0b67-5a2d-450d-ac66-2b06c14aaf55",
   "metadata": {},
   "outputs": [
    {
     "data": {
      "text/plain": [
       "PassengerId      int64\n",
       "Survived         int64\n",
       "Pclass           int64\n",
       "Name            object\n",
       "Sex             object\n",
       "Age            float64\n",
       "SibSp            int64\n",
       "Parch            int64\n",
       "Ticket          object\n",
       "Fare           float64\n",
       "Cabin           object\n",
       "Embarked        object\n",
       "dtype: object"
      ]
     },
     "execution_count": 3,
     "metadata": {},
     "output_type": "execute_result"
    }
   ],
   "source": [
    "df.dtypes  #no strings so ok"
   ]
  },
  {
   "cell_type": "markdown",
   "id": "4f280b07-8b45-420a-9beb-f7b941e4acce",
   "metadata": {},
   "source": [
    "### Removing cols that is not required"
   ]
  },
  {
   "cell_type": "code",
   "execution_count": 4,
   "id": "994573f2-f271-477f-8830-b5580ba1728b",
   "metadata": {},
   "outputs": [
    {
     "data": {
      "text/html": [
       "<div>\n",
       "<style scoped>\n",
       "    .dataframe tbody tr th:only-of-type {\n",
       "        vertical-align: middle;\n",
       "    }\n",
       "\n",
       "    .dataframe tbody tr th {\n",
       "        vertical-align: top;\n",
       "    }\n",
       "\n",
       "    .dataframe thead th {\n",
       "        text-align: right;\n",
       "    }\n",
       "</style>\n",
       "<table border=\"1\" class=\"dataframe\">\n",
       "  <thead>\n",
       "    <tr style=\"text-align: right;\">\n",
       "      <th></th>\n",
       "      <th>Survived</th>\n",
       "      <th>Pclass</th>\n",
       "      <th>Sex</th>\n",
       "      <th>Age</th>\n",
       "    </tr>\n",
       "  </thead>\n",
       "  <tbody>\n",
       "    <tr>\n",
       "      <th>0</th>\n",
       "      <td>0</td>\n",
       "      <td>3</td>\n",
       "      <td>male</td>\n",
       "      <td>34.5</td>\n",
       "    </tr>\n",
       "    <tr>\n",
       "      <th>1</th>\n",
       "      <td>1</td>\n",
       "      <td>3</td>\n",
       "      <td>female</td>\n",
       "      <td>47.0</td>\n",
       "    </tr>\n",
       "    <tr>\n",
       "      <th>2</th>\n",
       "      <td>0</td>\n",
       "      <td>2</td>\n",
       "      <td>male</td>\n",
       "      <td>62.0</td>\n",
       "    </tr>\n",
       "    <tr>\n",
       "      <th>3</th>\n",
       "      <td>0</td>\n",
       "      <td>3</td>\n",
       "      <td>male</td>\n",
       "      <td>27.0</td>\n",
       "    </tr>\n",
       "    <tr>\n",
       "      <th>4</th>\n",
       "      <td>1</td>\n",
       "      <td>3</td>\n",
       "      <td>female</td>\n",
       "      <td>22.0</td>\n",
       "    </tr>\n",
       "    <tr>\n",
       "      <th>...</th>\n",
       "      <td>...</td>\n",
       "      <td>...</td>\n",
       "      <td>...</td>\n",
       "      <td>...</td>\n",
       "    </tr>\n",
       "    <tr>\n",
       "      <th>413</th>\n",
       "      <td>0</td>\n",
       "      <td>3</td>\n",
       "      <td>male</td>\n",
       "      <td>NaN</td>\n",
       "    </tr>\n",
       "    <tr>\n",
       "      <th>414</th>\n",
       "      <td>1</td>\n",
       "      <td>1</td>\n",
       "      <td>female</td>\n",
       "      <td>39.0</td>\n",
       "    </tr>\n",
       "    <tr>\n",
       "      <th>415</th>\n",
       "      <td>0</td>\n",
       "      <td>3</td>\n",
       "      <td>male</td>\n",
       "      <td>38.5</td>\n",
       "    </tr>\n",
       "    <tr>\n",
       "      <th>416</th>\n",
       "      <td>0</td>\n",
       "      <td>3</td>\n",
       "      <td>male</td>\n",
       "      <td>NaN</td>\n",
       "    </tr>\n",
       "    <tr>\n",
       "      <th>417</th>\n",
       "      <td>0</td>\n",
       "      <td>3</td>\n",
       "      <td>male</td>\n",
       "      <td>NaN</td>\n",
       "    </tr>\n",
       "  </tbody>\n",
       "</table>\n",
       "<p>418 rows × 4 columns</p>\n",
       "</div>"
      ],
      "text/plain": [
       "     Survived  Pclass     Sex   Age\n",
       "0           0       3    male  34.5\n",
       "1           1       3  female  47.0\n",
       "2           0       2    male  62.0\n",
       "3           0       3    male  27.0\n",
       "4           1       3  female  22.0\n",
       "..        ...     ...     ...   ...\n",
       "413         0       3    male   NaN\n",
       "414         1       1  female  39.0\n",
       "415         0       3    male  38.5\n",
       "416         0       3    male   NaN\n",
       "417         0       3    male   NaN\n",
       "\n",
       "[418 rows x 4 columns]"
      ]
     },
     "metadata": {},
     "output_type": "display_data"
    }
   ],
   "source": [
    "df=df.drop(['PassengerId','Name','SibSp','Parch','Ticket','Fare','Cabin','Embarked'], axis=1)\n",
    "display(df)"
   ]
  },
  {
   "cell_type": "code",
   "execution_count": 5,
   "id": "523894be-b81a-4346-85ef-f067b4919e59",
   "metadata": {},
   "outputs": [
    {
     "data": {
      "text/plain": [
       "(418, 4)"
      ]
     },
     "execution_count": 5,
     "metadata": {},
     "output_type": "execute_result"
    }
   ],
   "source": [
    "df.shape"
   ]
  },
  {
   "cell_type": "code",
   "execution_count": 6,
   "id": "3082f2c4-56d0-450f-900c-1ddb6a66da60",
   "metadata": {},
   "outputs": [
    {
     "name": "stdout",
     "output_type": "stream",
     "text": [
      "(224, 4)\n"
     ]
    }
   ],
   "source": [
    "#removing duplicate rows\n",
    "duplicate_rows_df = df[df.duplicated()]\n",
    "print(duplicate_rows_df.shape)"
   ]
  },
  {
   "cell_type": "code",
   "execution_count": 7,
   "id": "49109eae-ad9f-4d23-a948-52a4d13cad01",
   "metadata": {},
   "outputs": [
    {
     "data": {
      "text/plain": [
       "Survived    418\n",
       "Pclass      418\n",
       "Sex         418\n",
       "Age         332\n",
       "dtype: int64"
      ]
     },
     "execution_count": 7,
     "metadata": {},
     "output_type": "execute_result"
    }
   ],
   "source": [
    "df.count()"
   ]
  },
  {
   "cell_type": "code",
   "execution_count": 8,
   "id": "47724ba1-aa09-4b14-b8dc-9f77362d9b8b",
   "metadata": {},
   "outputs": [
    {
     "data": {
      "text/html": [
       "<div>\n",
       "<style scoped>\n",
       "    .dataframe tbody tr th:only-of-type {\n",
       "        vertical-align: middle;\n",
       "    }\n",
       "\n",
       "    .dataframe tbody tr th {\n",
       "        vertical-align: top;\n",
       "    }\n",
       "\n",
       "    .dataframe thead th {\n",
       "        text-align: right;\n",
       "    }\n",
       "</style>\n",
       "<table border=\"1\" class=\"dataframe\">\n",
       "  <thead>\n",
       "    <tr style=\"text-align: right;\">\n",
       "      <th></th>\n",
       "      <th>Survived</th>\n",
       "      <th>Pclass</th>\n",
       "      <th>Sex</th>\n",
       "      <th>Age</th>\n",
       "    </tr>\n",
       "  </thead>\n",
       "  <tbody>\n",
       "    <tr>\n",
       "      <th>0</th>\n",
       "      <td>0</td>\n",
       "      <td>3</td>\n",
       "      <td>male</td>\n",
       "      <td>34.5</td>\n",
       "    </tr>\n",
       "    <tr>\n",
       "      <th>1</th>\n",
       "      <td>1</td>\n",
       "      <td>3</td>\n",
       "      <td>female</td>\n",
       "      <td>47.0</td>\n",
       "    </tr>\n",
       "    <tr>\n",
       "      <th>2</th>\n",
       "      <td>0</td>\n",
       "      <td>2</td>\n",
       "      <td>male</td>\n",
       "      <td>62.0</td>\n",
       "    </tr>\n",
       "    <tr>\n",
       "      <th>3</th>\n",
       "      <td>0</td>\n",
       "      <td>3</td>\n",
       "      <td>male</td>\n",
       "      <td>27.0</td>\n",
       "    </tr>\n",
       "    <tr>\n",
       "      <th>4</th>\n",
       "      <td>1</td>\n",
       "      <td>3</td>\n",
       "      <td>female</td>\n",
       "      <td>22.0</td>\n",
       "    </tr>\n",
       "  </tbody>\n",
       "</table>\n",
       "</div>"
      ],
      "text/plain": [
       "   Survived  Pclass     Sex   Age\n",
       "0         0       3    male  34.5\n",
       "1         1       3  female  47.0\n",
       "2         0       2    male  62.0\n",
       "3         0       3    male  27.0\n",
       "4         1       3  female  22.0"
      ]
     },
     "execution_count": 8,
     "metadata": {},
     "output_type": "execute_result"
    }
   ],
   "source": [
    "df = df.drop_duplicates()\n",
    "df.head(5)"
   ]
  },
  {
   "cell_type": "code",
   "execution_count": 9,
   "id": "3a6f8d7e-1f48-43e2-81b3-55228828313d",
   "metadata": {},
   "outputs": [
    {
     "data": {
      "text/plain": [
       "Survived    194\n",
       "Pclass      194\n",
       "Sex         194\n",
       "Age         188\n",
       "dtype: int64"
      ]
     },
     "execution_count": 9,
     "metadata": {},
     "output_type": "execute_result"
    }
   ],
   "source": [
    "df.count()"
   ]
  },
  {
   "cell_type": "code",
   "execution_count": 10,
   "id": "9dfea409-53b7-46ed-bb84-8cbf30e2a6c9",
   "metadata": {},
   "outputs": [
    {
     "name": "stdout",
     "output_type": "stream",
     "text": [
      "Survived    0\n",
      "Pclass      0\n",
      "Sex         0\n",
      "Age         6\n",
      "dtype: int64\n"
     ]
    }
   ],
   "source": [
    "# dropping null values\n",
    "print(df.isnull().sum())"
   ]
  },
  {
   "cell_type": "code",
   "execution_count": 11,
   "id": "206fde13-5c31-42d5-ad22-f3b0ba5bd922",
   "metadata": {},
   "outputs": [
    {
     "data": {
      "text/plain": [
       "Survived    188\n",
       "Pclass      188\n",
       "Sex         188\n",
       "Age         188\n",
       "dtype: int64"
      ]
     },
     "execution_count": 11,
     "metadata": {},
     "output_type": "execute_result"
    }
   ],
   "source": [
    "df = df.dropna()\n",
    "df.count()"
   ]
  },
  {
   "cell_type": "code",
   "execution_count": 12,
   "id": "c09e5c26-ca2e-4f49-9914-02fd0b0f4073",
   "metadata": {},
   "outputs": [
    {
     "name": "stdout",
     "output_type": "stream",
     "text": [
      "Survived    0\n",
      "Pclass      0\n",
      "Sex         0\n",
      "Age         0\n",
      "dtype: int64\n",
      "<bound method NDFrame.head of      Survived  Pclass     Sex   Age\n",
      "0           0       3    male  34.5\n",
      "1           1       3  female  47.0\n",
      "2           0       2    male  62.0\n",
      "3           0       3    male  27.0\n",
      "4           1       3  female  22.0\n",
      "..        ...     ...     ...   ...\n",
      "405         0       2    male  20.0\n",
      "409         1       3  female   3.0\n",
      "411         1       1  female  37.0\n",
      "412         1       3  female  28.0\n",
      "415         0       3    male  38.5\n",
      "\n",
      "[188 rows x 4 columns]>\n"
     ]
    }
   ],
   "source": [
    "print(df.isnull().sum())\n",
    "print(df.head)"
   ]
  },
  {
   "cell_type": "markdown",
   "id": "623cfa0b-33a7-491e-800b-79b3b6f8a759",
   "metadata": {},
   "source": [
    "### Outliers"
   ]
  },
  {
   "cell_type": "code",
   "execution_count": 13,
   "id": "cf863f8d-14c8-448b-85ae-3a77647903ce",
   "metadata": {},
   "outputs": [
    {
     "data": {
      "text/plain": [
       "Text(0.5, 1.0, 'Boxplot of Age')"
      ]
     },
     "execution_count": 13,
     "metadata": {},
     "output_type": "execute_result"
    },
    {
     "data": {
      "image/png": "[encoded data removed]",
      "text/plain": [
       "<Figure size 640x480 with 1 Axes>"
      ]
     },
     "metadata": {},
     "output_type": "display_data"
    }
   ],
   "source": [
    "import seaborn as sns\n",
    "sns.boxplot(x=df['Age']) #using boxplot to see Age outlier\n",
    "plt.title('Boxplot of Age')\n"
   ]
  },
  {
   "cell_type": "code",
   "execution_count": 14,
   "id": "cbea5c6e-01e7-4841-89c3-601bea1943b0",
   "metadata": {},
   "outputs": [
    {
     "name": "stdout",
     "output_type": "stream",
     "text": [
      "Survived        1.0\n",
      "Pclass          2.0\n",
      "Age            22.0\n",
      "Sex_Encoded     1.0\n",
      "dtype: float64\n"
     ]
    }
   ],
   "source": [
    "df['Sex_Encoded'] = df['Sex'].map({'male': 0, 'female': 1})\n",
    "numeric_df = df.select_dtypes(include=\"number\")\n",
    "\n",
    "Q1 = numeric_df.quantile(0.25)\n",
    "Q3 = numeric_df.quantile(0.75)\n",
    "IQR = Q3 - Q1\n",
    "print(IQR)"
   ]
  },
  {
   "cell_type": "code",
   "execution_count": 15,
   "id": "3d1e24c1-666c-42ee-b9dd-a02f93c156c9",
   "metadata": {},
   "outputs": [
    {
     "name": "stdout",
     "output_type": "stream",
     "text": [
      "     Survived  Pclass   Age  Sex_Encoded\n",
      "0           0       3  34.5            0\n",
      "1           1       3  47.0            1\n",
      "2           0       2  62.0            0\n",
      "3           0       3  27.0            0\n",
      "4           1       3  22.0            1\n",
      "..        ...     ...   ...          ...\n",
      "405         0       2  20.0            0\n",
      "409         1       3   3.0            1\n",
      "411         1       1  37.0            1\n",
      "412         1       3  28.0            1\n",
      "415         0       3  38.5            0\n",
      "\n",
      "[187 rows x 4 columns]\n",
      "   Survived  Pclass     Sex   Age\n",
      "0         0       3    male  34.5\n",
      "1         1       3  female  47.0\n",
      "2         0       2    male  62.0\n",
      "3         0       3    male  27.0\n",
      "4         1       3  female  22.0\n"
     ]
    }
   ],
   "source": [
    "# removing that outlier shown in boxplot\n",
    "\n",
    "ndf = numeric_df[~((numeric_df < (Q1 - 1.5 * IQR)) |(numeric_df > (Q3 + 1.5 * IQR))).any(axis=1)]\n",
    "ndf.shape\n",
    "print(ndf)\n",
    "df=df.drop(columns=['Sex_Encoded'])\n",
    "print(df.head())"
   ]
  },
  {
   "cell_type": "markdown",
   "id": "27305e75-965b-4842-a01e-64ee4b050e00",
   "metadata": {},
   "source": [
    "### since this data dont have too much of numbers dont need any histograms, scatter plots or heat map"
   ]
  },
  {
   "cell_type": "code",
   "execution_count": 16,
   "id": "a4fa10cf-04cb-4398-b729-70b3706f2eb1",
   "metadata": {},
   "outputs": [
    {
     "name": "stdout",
     "output_type": "stream",
     "text": [
      "     Survived  Pclass   Age     Sex\n",
      "0           0       3  34.5    male\n",
      "1           1       3  47.0  female\n",
      "2           0       2  62.0    male\n",
      "3           0       3  27.0    male\n",
      "4           1       3  22.0  female\n",
      "..        ...     ...   ...     ...\n",
      "405         0       2  20.0    male\n",
      "409         1       3   3.0  female\n",
      "411         1       1  37.0  female\n",
      "412         1       3  28.0  female\n",
      "415         0       3  38.5    male\n",
      "\n",
      "[187 rows x 4 columns]\n"
     ]
    },
    {
     "name": "stderr",
     "output_type": "stream",
     "text": [
      "C:\\Users\\Acer\\AppData\\Local\\Temp\\ipykernel_16948\\1356095588.py:3: SettingWithCopyWarning: \n",
      "A value is trying to be set on a copy of a slice from a DataFrame.\n",
      "Try using .loc[row_indexer,col_indexer] = value instead\n",
      "\n",
      "See the caveats in the documentation: https://pandas.pydata.org/pandas-docs/stable/user_guide/indexing.html#returning-a-view-versus-a-copy\n",
      "  ndf['Sex'] = ndf['Sex_Encoded'].map({0: 'male', 1: 'female'})\n"
     ]
    }
   ],
   "source": [
    "# removed outlier data->ndf\n",
    "\n",
    "ndf['Sex'] = ndf['Sex_Encoded'].map({0: 'male', 1: 'female'})\n",
    "ndf = ndf.drop(columns=['Sex_Encoded'])\n",
    "print(ndf)"
   ]
  },
  {
   "cell_type": "code",
   "execution_count": 17,
   "id": "fea34929-2343-4361-a76b-aa447d4b0324",
   "metadata": {},
   "outputs": [],
   "source": [
    "ndf.to_csv('eda_titanic.csv', index=False) "
   ]
  },
  {
   "cell_type": "code",
   "execution_count": null,
   "id": "9038ca57-10d9-49ec-9089-b299a661188a",
   "metadata": {},
   "outputs": [],
   "source": []
  }
 ],
 "metadata": {
  "kernelspec": {
   "display_name": "Python 3 (ipykernel)",
   "language": "python",
   "name": "python3"
  },
  "language_info": {
   "codemirror_mode": {
    "name": "ipython",
    "version": 3
   },
   "file_extension": ".py",
   "mimetype": "text/x-python",
   "name": "python",
   "nbconvert_exporter": "python",
   "pygments_lexer": "ipython3",
   "version": "3.12.4"
  }
 },
 "nbformat": 4,
 "nbformat_minor": 5
}
