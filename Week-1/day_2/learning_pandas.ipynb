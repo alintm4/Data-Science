{
 "cells": [
  {
   "cell_type": "code",
   "execution_count": 1,
   "id": "bdad5ba6-74aa-4cb0-9aa1-8b6e9a8e2017",
   "metadata": {},
   "outputs": [],
   "source": [
    "import numpy as np\n",
    "import pandas as pd"
   ]
  },
  {
   "cell_type": "markdown",
   "id": "38f411c6-b5cd-4740-a31c-5316f5ccd2d2",
   "metadata": {},
   "source": [
    "# DataFrames"
   ]
  },
  {
   "cell_type": "code",
   "execution_count": 2,
   "id": "f151e441",
   "metadata": {},
   "outputs": [
    {
     "name": "stdout",
     "output_type": "stream",
     "text": [
      "Empty DataFrame\n",
      "Columns: []\n",
      "Index: []\n"
     ]
    }
   ],
   "source": [
    "df=pd.DataFrame()\n",
    "print(df)"
   ]
  },
  {
   "cell_type": "code",
   "execution_count": 3,
   "id": "ed572009-2453-4511-a9e3-6b13d275b9f5",
   "metadata": {},
   "outputs": [
    {
     "name": "stdout",
     "output_type": "stream",
     "text": [
      "            0\n",
      "0    Learning\n",
      "1         Day\n",
      "2           2\n",
      "3  DataFrames\n"
     ]
    }
   ],
   "source": [
    "lists=['Learning','Day', '2','DataFrames']\n",
    "print(pd.DataFrame(lists))"
   ]
  },
  {
   "cell_type": "code",
   "execution_count": 4,
   "id": "6941650d-87e5-40ec-a20d-6fd28f39afaa",
   "metadata": {},
   "outputs": [
    {
     "name": "stdout",
     "output_type": "stream",
     "text": [
      "      Name  Age\n",
      "0     Alin    1\n",
      "1    Binod    2\n",
      "2    Anjal    3\n",
      "3  Srijana    4\n"
     ]
    }
   ],
   "source": [
    "dataa={'Name':['Alin','Binod','Anjal','Srijana'], 'Age':[1,2,3,4]}\n",
    "df=pd.DataFrame(dataa)\n",
    "print(df)"
   ]
  },
  {
   "cell_type": "markdown",
   "id": "d56ed31d-7567-41d6-8166-2b89196ffcc1",
   "metadata": {},
   "source": [
    "Series:"
   ]
  },
  {
   "cell_type": "code",
   "execution_count": 5,
   "id": "828305ba-f7fa-40e5-a78f-237a3d3fd3aa",
   "metadata": {},
   "outputs": [
    {
     "name": "stdout",
     "output_type": "stream",
     "text": [
      "Series([], dtype: object)\n"
     ]
    }
   ],
   "source": [
    "ser=pd.Series()\n",
    "print(ser)"
   ]
  },
  {
   "cell_type": "code",
   "execution_count": 6,
   "id": "8b73c80a-ec27-4bb8-a3a9-40121d33962a",
   "metadata": {},
   "outputs": [
    {
     "name": "stdout",
     "output_type": "stream",
     "text": [
      "0    g\n",
      "1    a\n",
      "2    f\n",
      "3    b\n",
      "dtype: object\n"
     ]
    }
   ],
   "source": [
    "d=np.array(['g','a','f','b'])\n",
    "print(pd.Series(d))"
   ]
  },
  {
   "cell_type": "code",
   "execution_count": 7,
   "id": "ed4fa802-c830-4e92-9055-1843467e0f2f",
   "metadata": {},
   "outputs": [
    {
     "name": "stdout",
     "output_type": "stream",
     "text": [
      "Alin       20\n",
      "Srijana    30\n",
      "Anjal      40\n",
      "dtype: int64\n"
     ]
    }
   ],
   "source": [
    "age=pd.Series([20,30,40],index=['Alin','Srijana','Anjal'])\n",
    "print(age)"
   ]
  },
  {
   "cell_type": "markdown",
   "id": "8e043161-fed8-4263-90ed-6d5b9001d1eb",
   "metadata": {},
   "source": [
    "# Reading Csv Files"
   ]
  },
  {
   "cell_type": "code",
   "execution_count": 13,
   "id": "6233bc87-86ad-4333-8921-e60c7c1135ed",
   "metadata": {},
   "outputs": [
    {
     "name": "stdout",
     "output_type": "stream",
     "text": [
      "  First Name Last Name     Sex                       Email Date of birth\n",
      "0     Shelby   Terrell    Male        elijah57@example.net    1945-10-26\n",
      "1    Phillip   Summers  Female       bethany14@example.com    1910-03-24\n",
      "2   Kristine    Travis    Male       bthompson@example.com    1992-07-02\n",
      "3    Yesenia  Martinez    Male   kaitlinkaiser@example.com    2017-08-03\n",
      "4       Lori      Todd    Male  buchananmanuel@example.net    1938-12-01\n",
      "\n",
      "\n",
      "\n",
      "\n",
      "\n",
      "\n",
      "<class 'pandas.core.frame.DataFrame'>\n",
      "RangeIndex: 5 entries, 0 to 4\n",
      "Columns: 5 entries, First Name to Date of birth\n",
      "dtypes: object(5)\n",
      "memory usage: 332.0+ bytes\n"
     ]
    }
   ],
   "source": [
    "df = pd.read_csv(\"people_data.csv\")\n",
    "print(df)\n",
    "print('\\n')\n",
    "#print(df.head(2))\n",
    "print('\\n')\n",
    "#print(df.tail(2))\n",
    "print('\\n')\n",
    "#print(df.info())\n",
    "df.info(verbose=False, null_counts=False)"
   ]
  },
  {
   "cell_type": "code",
   "execution_count": 9,
   "id": "640a83d2-07b3-4687-9309-3f7c96498c62",
   "metadata": {},
   "outputs": [
    {
     "data": {
      "text/html": [
       "<div>\n",
       "<style scoped>\n",
       "    .dataframe tbody tr th:only-of-type {\n",
       "        vertical-align: middle;\n",
       "    }\n",
       "\n",
       "    .dataframe tbody tr th {\n",
       "        vertical-align: top;\n",
       "    }\n",
       "\n",
       "    .dataframe thead th {\n",
       "        text-align: right;\n",
       "    }\n",
       "</style>\n",
       "<table border=\"1\" class=\"dataframe\">\n",
       "  <thead>\n",
       "    <tr style=\"text-align: right;\">\n",
       "      <th></th>\n",
       "      <th>First Name</th>\n",
       "      <th>Last Name</th>\n",
       "      <th>Sex</th>\n",
       "      <th>Email</th>\n",
       "      <th>Date of birth</th>\n",
       "    </tr>\n",
       "  </thead>\n",
       "  <tbody>\n",
       "    <tr>\n",
       "      <th>0</th>\n",
       "      <td>Shelby</td>\n",
       "      <td>Terrell</td>\n",
       "      <td>Male</td>\n",
       "      <td>elijah57@example.net</td>\n",
       "      <td>1945-10-26</td>\n",
       "    </tr>\n",
       "    <tr>\n",
       "      <th>1</th>\n",
       "      <td>Phillip</td>\n",
       "      <td>Summers</td>\n",
       "      <td>Female</td>\n",
       "      <td>bethany14@example.com</td>\n",
       "      <td>1910-03-24</td>\n",
       "    </tr>\n",
       "    <tr>\n",
       "      <th>2</th>\n",
       "      <td>Kristine</td>\n",
       "      <td>Travis</td>\n",
       "      <td>Male</td>\n",
       "      <td>bthompson@example.com</td>\n",
       "      <td>1992-07-02</td>\n",
       "    </tr>\n",
       "    <tr>\n",
       "      <th>3</th>\n",
       "      <td>Yesenia</td>\n",
       "      <td>Martinez</td>\n",
       "      <td>Male</td>\n",
       "      <td>kaitlinkaiser@example.com</td>\n",
       "      <td>2017-08-03</td>\n",
       "    </tr>\n",
       "    <tr>\n",
       "      <th>4</th>\n",
       "      <td>Lori</td>\n",
       "      <td>Todd</td>\n",
       "      <td>Male</td>\n",
       "      <td>buchananmanuel@example.net</td>\n",
       "      <td>1938-12-01</td>\n",
       "    </tr>\n",
       "  </tbody>\n",
       "</table>\n",
       "</div>"
      ],
      "text/plain": [
       "  First Name Last Name     Sex                       Email Date of birth\n",
       "0     Shelby   Terrell    Male        elijah57@example.net    1945-10-26\n",
       "1    Phillip   Summers  Female       bethany14@example.com    1910-03-24\n",
       "2   Kristine    Travis    Male       bthompson@example.com    1992-07-02\n",
       "3    Yesenia  Martinez    Male   kaitlinkaiser@example.com    2017-08-03\n",
       "4       Lori      Todd    Male  buchananmanuel@example.net    1938-12-01"
      ]
     },
     "metadata": {},
     "output_type": "display_data"
    }
   ],
   "source": [
    "\n",
    "display(df)"
   ]
  },
  {
   "cell_type": "code",
   "execution_count": 10,
   "id": "b406c06e-37e5-4555-83a9-1964c8b5280c",
   "metadata": {},
   "outputs": [
    {
     "data": {
      "text/html": [
       "<div>\n",
       "<style scoped>\n",
       "    .dataframe tbody tr th:only-of-type {\n",
       "        vertical-align: middle;\n",
       "    }\n",
       "\n",
       "    .dataframe tbody tr th {\n",
       "        vertical-align: top;\n",
       "    }\n",
       "\n",
       "    .dataframe thead th {\n",
       "        text-align: right;\n",
       "    }\n",
       "</style>\n",
       "<table border=\"1\" class=\"dataframe\">\n",
       "  <thead>\n",
       "    <tr style=\"text-align: right;\">\n",
       "      <th></th>\n",
       "      <th>First Name</th>\n",
       "      <th>Last Name</th>\n",
       "      <th>Sex</th>\n",
       "      <th>Email</th>\n",
       "      <th>Date of birth</th>\n",
       "    </tr>\n",
       "  </thead>\n",
       "  <tbody>\n",
       "    <tr>\n",
       "      <th>count</th>\n",
       "      <td>5</td>\n",
       "      <td>5</td>\n",
       "      <td>5</td>\n",
       "      <td>5</td>\n",
       "      <td>5</td>\n",
       "    </tr>\n",
       "    <tr>\n",
       "      <th>unique</th>\n",
       "      <td>5</td>\n",
       "      <td>5</td>\n",
       "      <td>2</td>\n",
       "      <td>5</td>\n",
       "      <td>5</td>\n",
       "    </tr>\n",
       "    <tr>\n",
       "      <th>top</th>\n",
       "      <td>Shelby</td>\n",
       "      <td>Terrell</td>\n",
       "      <td>Male</td>\n",
       "      <td>elijah57@example.net</td>\n",
       "      <td>1945-10-26</td>\n",
       "    </tr>\n",
       "    <tr>\n",
       "      <th>freq</th>\n",
       "      <td>1</td>\n",
       "      <td>1</td>\n",
       "      <td>4</td>\n",
       "      <td>1</td>\n",
       "      <td>1</td>\n",
       "    </tr>\n",
       "  </tbody>\n",
       "</table>\n",
       "</div>"
      ],
      "text/plain": [
       "       First Name Last Name   Sex                 Email Date of birth\n",
       "count           5         5     5                     5             5\n",
       "unique          5         5     2                     5             5\n",
       "top        Shelby   Terrell  Male  elijah57@example.net    1945-10-26\n",
       "freq            1         1     4                     1             1"
      ]
     },
     "metadata": {},
     "output_type": "display_data"
    }
   ],
   "source": [
    "display(df.describe())"
   ]
  },
  {
   "cell_type": "code",
   "execution_count": 14,
   "id": "ed21807f-00c6-4ae7-86e5-1d6274ee406a",
   "metadata": {},
   "outputs": [],
   "source": [
    "#check null data\n",
    "df.isnull()\n",
    "df.isnull().sum() # total number of null data gives of column\n",
    "\n",
    "#for row\n",
    "for i in range(len(df.index):\n",
    "    print(i+1,\":\", df.iloc[i].isnull().sum())\n"
   ]
  },
  {
   "cell_type": "markdown",
   "id": "a387b69a-e0d8-4214-aab3-5f95f1467e3a",
   "metadata": {},
   "source": [
    "# loc and iloc"
   ]
  },
  {
   "cell_type": "code",
   "execution_count": 20,
   "id": "fc8c4c21-8c7a-4cc7-8705-54c40c66e5cc",
   "metadata": {},
   "outputs": [
    {
     "name": "stdout",
     "output_type": "stream",
     "text": [
      "Male\n",
      "Female\n",
      "First Name                     Phillip\n",
      "Last Name                      Summers\n",
      "Sex                             Female\n",
      "Email            bethany14@example.com\n",
      "Date of birth               1910-03-24\n",
      "Name: 1, dtype: object\n",
      "\n",
      "\n",
      "  First Name Last Name   Sex                  Email Date of birth\n",
      "0     Shelby   Terrell  Male   elijah57@example.net    1945-10-26\n",
      "2   Kristine    Travis  Male  bthompson@example.com    1992-07-02\n",
      "  First Name Last Name     Sex                      Email Date of birth\n",
      "1    Phillip   Summers  Female      bethany14@example.com    1910-03-24\n",
      "3    Yesenia  Martinez    Male  kaitlinkaiser@example.com    2017-08-03\n"
     ]
    }
   ],
   "source": [
    "# loc requires end index\n",
    "\n",
    "loc_r=df.loc[0,'Sex'] # row-0 and col-Sex\n",
    "print(loc_r)\n",
    "\n",
    "iloc_r=df.iloc[1,2] #row-1 col-2\n",
    "print(iloc_r)\n",
    "\n",
    "only_iloc=df.iloc[1]\n",
    "print(only_iloc)\n",
    "\n",
    "\n",
    "#multiple rowss\n",
    "print(\"\\n\")\n",
    "print(df.loc[[0,2]])\n",
    "print(df.iloc[[1,3]])"
   ]
  },
  {
   "cell_type": "markdown",
   "id": "46b4cb30-c7a2-49fc-91fa-db8a31cbafe8",
   "metadata": {},
   "source": [
    "# Slicing Data"
   ]
  },
  {
   "cell_type": "code",
   "execution_count": 21,
   "id": "b62b7c81-801a-41d7-ba57-89ca26b613e8",
   "metadata": {},
   "outputs": [
    {
     "data": {
      "text/html": [
       "<div>\n",
       "<style scoped>\n",
       "    .dataframe tbody tr th:only-of-type {\n",
       "        vertical-align: middle;\n",
       "    }\n",
       "\n",
       "    .dataframe tbody tr th {\n",
       "        vertical-align: top;\n",
       "    }\n",
       "\n",
       "    .dataframe thead th {\n",
       "        text-align: right;\n",
       "    }\n",
       "</style>\n",
       "<table border=\"1\" class=\"dataframe\">\n",
       "  <thead>\n",
       "    <tr style=\"text-align: right;\">\n",
       "      <th></th>\n",
       "      <th>Name</th>\n",
       "      <th>Age</th>\n",
       "      <th>Weight</th>\n",
       "      <th>Salary</th>\n",
       "    </tr>\n",
       "  </thead>\n",
       "  <tbody>\n",
       "    <tr>\n",
       "      <th>0</th>\n",
       "      <td>M.S.Dhoni</td>\n",
       "      <td>36</td>\n",
       "      <td>75</td>\n",
       "      <td>5428000</td>\n",
       "    </tr>\n",
       "    <tr>\n",
       "      <th>1</th>\n",
       "      <td>A.B.D Villers</td>\n",
       "      <td>38</td>\n",
       "      <td>74</td>\n",
       "      <td>3428000</td>\n",
       "    </tr>\n",
       "    <tr>\n",
       "      <th>2</th>\n",
       "      <td>V.Kohli</td>\n",
       "      <td>31</td>\n",
       "      <td>70</td>\n",
       "      <td>8428000</td>\n",
       "    </tr>\n",
       "    <tr>\n",
       "      <th>3</th>\n",
       "      <td>S.Smith</td>\n",
       "      <td>34</td>\n",
       "      <td>80</td>\n",
       "      <td>4428000</td>\n",
       "    </tr>\n",
       "    <tr>\n",
       "      <th>4</th>\n",
       "      <td>C.Gayle</td>\n",
       "      <td>40</td>\n",
       "      <td>100</td>\n",
       "      <td>4528000</td>\n",
       "    </tr>\n",
       "    <tr>\n",
       "      <th>5</th>\n",
       "      <td>J.Root</td>\n",
       "      <td>33</td>\n",
       "      <td>72</td>\n",
       "      <td>7028000</td>\n",
       "    </tr>\n",
       "    <tr>\n",
       "      <th>6</th>\n",
       "      <td>K.Peterson</td>\n",
       "      <td>42</td>\n",
       "      <td>85</td>\n",
       "      <td>2528000</td>\n",
       "    </tr>\n",
       "  </tbody>\n",
       "</table>\n",
       "</div>"
      ],
      "text/plain": [
       "            Name  Age  Weight   Salary\n",
       "0      M.S.Dhoni   36      75  5428000\n",
       "1  A.B.D Villers   38      74  3428000\n",
       "2        V.Kohli   31      70  8428000\n",
       "3        S.Smith   34      80  4428000\n",
       "4        C.Gayle   40     100  4528000\n",
       "5         J.Root   33      72  7028000\n",
       "6     K.Peterson   42      85  2528000"
      ]
     },
     "metadata": {},
     "output_type": "display_data"
    }
   ],
   "source": [
    "player_list = [['M.S.Dhoni', 36, 75, 5428000],\n",
    "               ['A.B.D Villers', 38, 74, 3428000],\n",
    "               ['V.Kohli', 31, 70, 8428000],\n",
    "               ['S.Smith', 34, 80, 4428000],\n",
    "               ['C.Gayle', 40, 100, 4528000],\n",
    "               ['J.Root', 33, 72, 7028000],\n",
    "               ['K.Peterson', 42, 85, 2528000]]\n",
    "df = pd.DataFrame(player_list, columns=['Name', 'Age', 'Weight', 'Salary'])\n",
    "display(df)\n"
   ]
  },
  {
   "cell_type": "code",
   "execution_count": 26,
   "id": "597342c5-5a57-48be-98ea-08169fef328e",
   "metadata": {},
   "outputs": [
    {
     "data": {
      "text/html": [
       "<div>\n",
       "<style scoped>\n",
       "    .dataframe tbody tr th:only-of-type {\n",
       "        vertical-align: middle;\n",
       "    }\n",
       "\n",
       "    .dataframe tbody tr th {\n",
       "        vertical-align: top;\n",
       "    }\n",
       "\n",
       "    .dataframe thead th {\n",
       "        text-align: right;\n",
       "    }\n",
       "</style>\n",
       "<table border=\"1\" class=\"dataframe\">\n",
       "  <thead>\n",
       "    <tr style=\"text-align: right;\">\n",
       "      <th></th>\n",
       "      <th>Name</th>\n",
       "      <th>Age</th>\n",
       "      <th>Weight</th>\n",
       "      <th>Salary</th>\n",
       "    </tr>\n",
       "  </thead>\n",
       "  <tbody>\n",
       "    <tr>\n",
       "      <th>0</th>\n",
       "      <td>M.S.Dhoni</td>\n",
       "      <td>36</td>\n",
       "      <td>75</td>\n",
       "      <td>5428000</td>\n",
       "    </tr>\n",
       "    <tr>\n",
       "      <th>1</th>\n",
       "      <td>A.B.D Villers</td>\n",
       "      <td>38</td>\n",
       "      <td>74</td>\n",
       "      <td>3428000</td>\n",
       "    </tr>\n",
       "    <tr>\n",
       "      <th>2</th>\n",
       "      <td>V.Kohli</td>\n",
       "      <td>31</td>\n",
       "      <td>70</td>\n",
       "      <td>8428000</td>\n",
       "    </tr>\n",
       "    <tr>\n",
       "      <th>3</th>\n",
       "      <td>S.Smith</td>\n",
       "      <td>34</td>\n",
       "      <td>80</td>\n",
       "      <td>4428000</td>\n",
       "    </tr>\n",
       "  </tbody>\n",
       "</table>\n",
       "</div>"
      ],
      "text/plain": [
       "            Name  Age  Weight   Salary\n",
       "0      M.S.Dhoni   36      75  5428000\n",
       "1  A.B.D Villers   38      74  3428000\n",
       "2        V.Kohli   31      70  8428000\n",
       "3        S.Smith   34      80  4428000"
      ]
     },
     "metadata": {},
     "output_type": "display_data"
    },
    {
     "name": "stdout",
     "output_type": "stream",
     "text": [
      "\n",
      "\n",
      "            Name  Age\n",
      "0      M.S.Dhoni   36\n",
      "1  A.B.D Villers   38\n",
      "2        V.Kohli   31\n",
      "3        S.Smith   34\n",
      "4        C.Gayle   40\n",
      "5         J.Root   33\n",
      "6     K.Peterson   42\n"
     ]
    }
   ],
   "source": [
    "#slicing row\n",
    "df1=df.iloc[0:4]\n",
    "display(df1)\n",
    "print(\"\\n\")\n",
    "\n",
    "#slicing column\n",
    "df2=df.iloc[:,0:2]\n",
    "print(df2)\n"
   ]
  },
  {
   "cell_type": "code",
   "execution_count": 30,
   "id": "06311dad-0222-43e2-a21e-9b613334d345",
   "metadata": {},
   "outputs": [
    {
     "data": {
      "text/html": [
       "<div>\n",
       "<style scoped>\n",
       "    .dataframe tbody tr th:only-of-type {\n",
       "        vertical-align: middle;\n",
       "    }\n",
       "\n",
       "    .dataframe tbody tr th {\n",
       "        vertical-align: top;\n",
       "    }\n",
       "\n",
       "    .dataframe thead th {\n",
       "        text-align: right;\n",
       "    }\n",
       "</style>\n",
       "<table border=\"1\" class=\"dataframe\">\n",
       "  <thead>\n",
       "    <tr style=\"text-align: right;\">\n",
       "      <th></th>\n",
       "      <th>Name</th>\n",
       "      <th>Age</th>\n",
       "      <th>Weight</th>\n",
       "      <th>Salary</th>\n",
       "    </tr>\n",
       "  </thead>\n",
       "  <tbody>\n",
       "    <tr>\n",
       "      <th>0</th>\n",
       "      <td>M.S.Dhoni</td>\n",
       "      <td>36</td>\n",
       "      <td>75</td>\n",
       "      <td>5428000</td>\n",
       "    </tr>\n",
       "    <tr>\n",
       "      <th>1</th>\n",
       "      <td>A.B.D Villers</td>\n",
       "      <td>38</td>\n",
       "      <td>74</td>\n",
       "      <td>3428000</td>\n",
       "    </tr>\n",
       "    <tr>\n",
       "      <th>4</th>\n",
       "      <td>C.Gayle</td>\n",
       "      <td>40</td>\n",
       "      <td>100</td>\n",
       "      <td>4528000</td>\n",
       "    </tr>\n",
       "    <tr>\n",
       "      <th>6</th>\n",
       "      <td>K.Peterson</td>\n",
       "      <td>42</td>\n",
       "      <td>85</td>\n",
       "      <td>2528000</td>\n",
       "    </tr>\n",
       "  </tbody>\n",
       "</table>\n",
       "</div>"
      ],
      "text/plain": [
       "            Name  Age  Weight   Salary\n",
       "0      M.S.Dhoni   36      75  5428000\n",
       "1  A.B.D Villers   38      74  3428000\n",
       "4        C.Gayle   40     100  4528000\n",
       "6     K.Peterson   42      85  2528000"
      ]
     },
     "metadata": {},
     "output_type": "display_data"
    }
   ],
   "source": [
    "#filtering the data\n",
    "filtered_data=df.loc[df['Age']>35]\n",
    "display(filtered_data)"
   ]
  },
  {
   "cell_type": "code",
   "execution_count": null,
   "id": "5b5fd6f0-01e5-486b-8a03-3f6d845e4dd5",
   "metadata": {},
   "outputs": [],
   "source": []
  }
 ],
 "metadata": {
  "kernelspec": {
   "display_name": "Python 3 (ipykernel)",
   "language": "python",
   "name": "python3"
  },
  "language_info": {
   "codemirror_mode": {
    "name": "ipython",
    "version": 3
   },
   "file_extension": ".py",
   "mimetype": "text/x-python",
   "name": "python",
   "nbconvert_exporter": "python",
   "pygments_lexer": "ipython3",
   "version": "3.12.4"
  }
 },
 "nbformat": 4,
 "nbformat_minor": 5
}
